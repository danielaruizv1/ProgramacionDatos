{
 "cells": [
  {
   "cell_type": "markdown",
   "metadata": {},
   "source": [
    "# Taller 1 - Python"
   ]
  },
  {
   "cell_type": "markdown",
   "metadata": {},
   "source": [
    "## Ejercicio 1\n",
    "#### Asignación de asientos en un avión de forma peculiar"
   ]
  },
  {
   "cell_type": "code",
   "execution_count": null,
   "metadata": {},
   "outputs": [
    {
     "data": {
      "text/plain": [
       "0.50397"
      ]
     },
     "execution_count": 1,
     "metadata": {},
     "output_type": "execute_result"
    }
   ],
   "source": [
    "import random\n",
    "\n",
    "numero_simulations = 100000\n",
    "conteo_exito = 0\n",
    "\n",
    "# Realizar simulaciones y contar el número de éxitos\n",
    "for _ in range(numero_simulations):\n",
    "    asientos_vacios = list(range(1, 101))\n",
    "    eleccion_primer_pasajero = random.choice(asientos_vacios)  # El primer pasajero elige un asiento al azar\n",
    "    asientos_vacios.remove(eleccion_primer_pasajero)\n",
    "\n",
    "    # Pasajeros del 2 al 99 intentan sentarse\n",
    "    for pasajero in range(2, 100):\n",
    "        if pasajero in asientos_vacios: # Verifica si su asiento está disponible\n",
    "            asientos_vacios.remove(pasajero)\n",
    "        else: # Si su asiento no está disponible\n",
    "            asiento_aleatorio = random.choice(asientos_vacios)  # Elige un asiento al azar de los disponibles\n",
    "            asientos_vacios.remove(asiento_aleatorio)\n",
    "\n",
    "    if 100 in asientos_vacios: # Verifica si el pasajero 100 se sienta en su asiento\n",
    "        conteo_exito += 1\n",
    "        \n",
    "# Probabilidad estimada\n",
    "probabilidad = conteo_exito / numero_simulations\n",
    "probabilidad\n",
    "\n"
   ]
  },
  {
   "cell_type": "markdown",
   "metadata": {},
   "source": [
    "Al ejecutar la simulación se observa que la probabilidad es muy cercana al 50%"
   ]
  },
  {
   "cell_type": "markdown",
   "metadata": {},
   "source": [
    "## Ejercicio 2\n",
    "#### Estimación de π\\piπ mediante el método de Monte Carlo"
   ]
  },
  {
   "cell_type": "code",
   "execution_count": 2,
   "metadata": {},
   "outputs": [
    {
     "data": {
      "text/plain": [
       "3.1442"
      ]
     },
     "execution_count": 2,
     "metadata": {},
     "output_type": "execute_result"
    }
   ],
   "source": [
    "import random\n",
    "\n",
    "numero_puntos=1000000\n",
    "dentro_circulo = 0\n",
    "\n",
    "for _ in range(numero_puntos):\n",
    "    # Genera punto aleatorio en el rango [-0.5, 0.5] para x e y\n",
    "    x = random.uniform(-0.5, 0.5)\n",
    "    y = random.uniform(-0.5, 0.5)\n",
    "    # Verifica si el punto está dentro del círculo\n",
    "    if x**2 + y**2 <= 0.25:\n",
    "        dentro_circulo += 1 # Incrementa el contador si el punto está dentro del círculo\n",
    "\n",
    "\n",
    "# Estima el valor de pi\n",
    "pi_estimado = 4 * (dentro_circulo / numero_puntos)\n",
    "pi_estimado"
   ]
  },
  {
   "cell_type": "markdown",
   "metadata": {},
   "source": [
    "Al ejecutar la simulación la estimación del valor de π es bastante cerca del valor real de π (≈ 3.1416)"
   ]
  }
 ],
 "metadata": {
  "kernelspec": {
   "display_name": "Python 3",
   "language": "python",
   "name": "python3"
  },
  "language_info": {
   "codemirror_mode": {
    "name": "ipython",
    "version": 3
   },
   "file_extension": ".py",
   "mimetype": "text/x-python",
   "name": "python",
   "nbconvert_exporter": "python",
   "pygments_lexer": "ipython3",
   "version": "3.10.12"
  }
 },
 "nbformat": 4,
 "nbformat_minor": 2
}
