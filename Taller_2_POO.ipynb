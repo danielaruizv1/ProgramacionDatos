{
 "cells": [
  {
   "cell_type": "code",
   "execution_count": null,
   "metadata": {},
   "outputs": [
    {
     "name": "stdout",
     "output_type": "stream",
     "text": [
      "Baraja barajada:\n",
      "3 de Pica, 12 de Trébol, 1 de Corazón, 10 de Trébol, 1 de Trébol, 8 de Diamante, 4 de Trébol, 13 de Pica, 10 de Corazón, 2 de Corazón, 4 de Diamante, 5 de Corazón, 6 de Pica, 5 de Trébol, 2 de Diamante, 9 de Diamante, 12 de Corazón, 7 de Corazón, 4 de Pica, 8 de Trébol, 2 de Pica, 8 de Corazón, 6 de Trébol, 12 de Diamante, 6 de Diamante, 12 de Pica, 11 de Pica, 10 de Pica, 1 de Pica, 2 de Trébol, 7 de Diamante, 13 de Corazón, 1 de Diamante, 7 de Pica, 11 de Trébol, 13 de Trébol, 11 de Corazón, 9 de Corazón, 7 de Trébol, 5 de Pica, 9 de Trébol, 6 de Corazón, 4 de Corazón, 3 de Trébol, 9 de Pica, 13 de Diamante, 3 de Diamante, 10 de Diamante, 11 de Diamante, 3 de Corazón, 8 de Pica, 5 de Diamante\n",
      "\n",
      "Baraja ordenada:\n",
      "1 de Trébol, 2 de Trébol, 3 de Trébol, 4 de Trébol, 5 de Trébol, 6 de Trébol, 7 de Trébol, 8 de Trébol, 9 de Trébol, 10 de Trébol, 11 de Trébol, 12 de Trébol, 13 de Trébol, 1 de Diamante, 2 de Diamante, 3 de Diamante, 4 de Diamante, 5 de Diamante, 6 de Diamante, 7 de Diamante, 8 de Diamante, 9 de Diamante, 10 de Diamante, 11 de Diamante, 12 de Diamante, 13 de Diamante, 1 de Pica, 2 de Pica, 3 de Pica, 4 de Pica, 5 de Pica, 6 de Pica, 7 de Pica, 8 de Pica, 9 de Pica, 10 de Pica, 11 de Pica, 12 de Pica, 13 de Pica, 1 de Corazón, 2 de Corazón, 3 de Corazón, 4 de Corazón, 5 de Corazón, 6 de Corazón, 7 de Corazón, 8 de Corazón, 9 de Corazón, 10 de Corazón, 11 de Corazón, 12 de Corazón, 13 de Corazón\n",
      "\n",
      "Comparación de cartas:\n",
      "1 de Corazón == 13 de Pica: False\n",
      "1 de Corazón < 13 de Pica: False\n",
      "1 de Corazón > 13 de Pica: True\n"
     ]
    }
   ],
   "source": [
    "import random\n",
    "\n",
    "class Carta:\n",
    "    PALOS_ORDEN = {\"Trébol\": 0, \"Diamante\": 1, \"Pica\": 2, \"Corazón\": 3}\n",
    "    VALORES_ORDEN = {\"A\": 1, \"J\": 11, \"Q\": 12, \"K\": 13}\n",
    "    \n",
    "    def __init__(self, palo: str, identificador: str):\n",
    "        # Si el identificador es un número, lo deja tal cual, si no, lo convierte a su equivalente numérico\n",
    "        self.palo = palo\n",
    "        if identificador.isdigit():\n",
    "            self.identificador = identificador\n",
    "        else:\n",
    "            self.identificador = self.VALORES_ORDEN.get(identificador, identificador)\n",
    "\n",
    "    def __str__(self):\n",
    "        return f\"{self.identificador} de {self.palo}\"\n",
    "\n",
    "    def __repr__(self):\n",
    "        return self.__str__()\n",
    "\n",
    "    def __eq__(self, other):\n",
    "        return (self.palo, self.identificador) == (other.palo, other.identificador)\n",
    "\n",
    "    def __lt__(self, other):\n",
    "        if self.PALOS_ORDEN[self.palo] == self.PALOS_ORDEN[other.palo]:\n",
    "            return int(self.identificador) < int(other.identificador)\n",
    "        return self.PALOS_ORDEN[self.palo] < self.PALOS_ORDEN[other.palo]\n",
    "\n",
    "    def __gt__(self, other):\n",
    "        return not self.__lt__(other) and not self.__eq__(other)\n",
    "\n",
    "class Baraja:\n",
    "    PALOS = [\"Trébol\", \"Diamante\", \"Pica\", \"Corazón\"]\n",
    "    IDENTIFICADORES = [\"A\", \"2\", \"3\", \"4\", \"5\", \"6\", \"7\", \"8\", \"9\", \"10\", \"J\", \"Q\", \"K\"]\n",
    "    \n",
    "    def __init__(self):\n",
    "        self.cartas = []\n",
    "        for palo in self.PALOS:\n",
    "            for identificador in self.IDENTIFICADORES:\n",
    "                self.cartas.append(Carta(palo, identificador))\n",
    "    \n",
    "    def ordenar(self):\n",
    "        self.cartas.sort()\n",
    "    \n",
    "    def barajar(self):\n",
    "        random.shuffle(self.cartas)\n",
    "    \n",
    "    def __str__(self):\n",
    "        return \", \".join(str(carta) for carta in self.cartas)\n",
    "\n",
    "# Se crea una baraja, se baraja y se ordena\n",
    "baraja = Baraja()\n",
    "baraja.barajar()\n",
    "print(\"Baraja barajada:\")\n",
    "print(baraja)\n",
    "\n",
    "baraja.ordenar()\n",
    "print(\"\\nBaraja ordenada:\")\n",
    "print(baraja)\n",
    "\n",
    "# Comparación de cartas\n",
    "carta1 = Carta(\"Corazón\", \"A\")\n",
    "carta2 = Carta(\"Pica\", \"K\")\n",
    "print(\"\\nComparación de cartas:\")\n",
    "print(f\"{carta1} == {carta2}: {carta1 == carta2}\")\n",
    "print(f\"{carta1} < {carta2}: {carta1 < carta2}\")\n",
    "print(f\"{carta1} > {carta2}: {carta1 > carta2}\")\n"
   ]
  },
  {
   "cell_type": "code",
   "execution_count": null,
   "metadata": {},
   "outputs": [],
   "source": []
  }
 ],
 "metadata": {
  "kernelspec": {
   "display_name": "Python 3",
   "language": "python",
   "name": "python3"
  },
  "language_info": {
   "codemirror_mode": {
    "name": "ipython",
    "version": 3
   },
   "file_extension": ".py",
   "mimetype": "text/x-python",
   "name": "python",
   "nbconvert_exporter": "python",
   "pygments_lexer": "ipython3",
   "version": "3.10.12"
  }
 },
 "nbformat": 4,
 "nbformat_minor": 2
}
